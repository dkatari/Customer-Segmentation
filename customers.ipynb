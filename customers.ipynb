{
 "cells": [
  {
   "cell_type": "markdown",
   "id": "1013c063",
   "metadata": {},
   "source": [
    "<h1> Customer Segmentation using K- Means Clustering </h1>"
   ]
  },
  {
   "cell_type": "markdown",
   "id": "e4cee8b7",
   "metadata": {},
   "source": [
    "<h3> Load libraries </h3>"
   ]
  },
  {
   "cell_type": "code",
   "execution_count": 58,
   "id": "b5e2bb89",
   "metadata": {},
   "outputs": [],
   "source": [
    "import pandas as pd\n",
    "from sklearn.preprocessing import MinMaxScaler\n",
    "from sklearn.cluster import KMeans\n",
    "from sklearn.metrics import silhouette_score\n",
    "import matplotlib.pyplot as plt\n",
    "import seaborn as sns"
   ]
  },
  {
   "cell_type": "code",
   "execution_count": 59,
   "id": "da744850",
   "metadata": {},
   "outputs": [],
   "source": [
    "import warnings\n",
    "warnings.filterwarnings('ignore')"
   ]
  },
  {
   "cell_type": "markdown",
   "id": "7facf964",
   "metadata": {},
   "source": [
    "<h3> Load data from customers.xlxs </h3>"
   ]
  },
  {
   "cell_type": "code",
   "execution_count": 60,
   "id": "a975c207",
   "metadata": {},
   "outputs": [
    {
     "data": {
      "text/plain": [
       "['S:\\\\Data Science\\\\Customer Segmentation']"
      ]
     },
     "execution_count": 60,
     "metadata": {},
     "output_type": "execute_result"
    }
   ],
   "source": [
    "!!cd"
   ]
  },
  {
   "cell_type": "code",
   "execution_count": 61,
   "id": "9cdbfc0d",
   "metadata": {},
   "outputs": [],
   "source": [
    "#df = pd.read_excel(\"customers.xlsx\")"
   ]
  },
  {
   "cell_type": "code",
   "execution_count": 62,
   "id": "354d3cd2",
   "metadata": {},
   "outputs": [],
   "source": [
    "#df.to_csv(\"output.csv\", index = False)"
   ]
  },
  {
   "cell_type": "code",
   "execution_count": 63,
   "id": "0ffec89b",
   "metadata": {},
   "outputs": [],
   "source": [
    "df = pd.read_csv(\"output.csv\")"
   ]
  },
  {
   "cell_type": "markdown",
   "id": "49bc9099",
   "metadata": {},
   "source": [
    "<h3> Understanding Data </h3>"
   ]
  },
  {
   "cell_type": "code",
   "execution_count": 64,
   "id": "6e22727a",
   "metadata": {},
   "outputs": [
    {
     "data": {
      "text/html": [
       "<div>\n",
       "<style scoped>\n",
       "    .dataframe tbody tr th:only-of-type {\n",
       "        vertical-align: middle;\n",
       "    }\n",
       "\n",
       "    .dataframe tbody tr th {\n",
       "        vertical-align: top;\n",
       "    }\n",
       "\n",
       "    .dataframe thead th {\n",
       "        text-align: right;\n",
       "    }\n",
       "</style>\n",
       "<table border=\"1\" class=\"dataframe\">\n",
       "  <thead>\n",
       "    <tr style=\"text-align: right;\">\n",
       "      <th></th>\n",
       "      <th>Invoice</th>\n",
       "      <th>StockCode</th>\n",
       "      <th>Description</th>\n",
       "      <th>Quantity</th>\n",
       "      <th>InvoiceDate</th>\n",
       "      <th>Price</th>\n",
       "      <th>Customer ID</th>\n",
       "      <th>Country</th>\n",
       "    </tr>\n",
       "  </thead>\n",
       "  <tbody>\n",
       "    <tr>\n",
       "      <th>277520</th>\n",
       "      <td>516343</td>\n",
       "      <td>22617</td>\n",
       "      <td>BAKING SET SPACEBOY DESIGN</td>\n",
       "      <td>3</td>\n",
       "      <td>2010-07-20 09:45:00</td>\n",
       "      <td>4.95</td>\n",
       "      <td>14922.0</td>\n",
       "      <td>United Kingdom</td>\n",
       "    </tr>\n",
       "    <tr>\n",
       "      <th>245969</th>\n",
       "      <td>513199</td>\n",
       "      <td>21527</td>\n",
       "      <td>RED RETROSPOT TRADITIONAL TEAPOT</td>\n",
       "      <td>1</td>\n",
       "      <td>2010-06-22 16:21:00</td>\n",
       "      <td>16.98</td>\n",
       "      <td>NaN</td>\n",
       "      <td>United Kingdom</td>\n",
       "    </tr>\n",
       "    <tr>\n",
       "      <th>88876</th>\n",
       "      <td>497795</td>\n",
       "      <td>22271</td>\n",
       "      <td>FELTCRAFT DOLL ROSIE</td>\n",
       "      <td>6</td>\n",
       "      <td>2010-02-12 12:51:00</td>\n",
       "      <td>2.95</td>\n",
       "      <td>16954.0</td>\n",
       "      <td>United Kingdom</td>\n",
       "    </tr>\n",
       "    <tr>\n",
       "      <th>330484</th>\n",
       "      <td>521646</td>\n",
       "      <td>21703</td>\n",
       "      <td>BAG 125g SWIRLY MARBLES</td>\n",
       "      <td>10</td>\n",
       "      <td>2010-09-07 13:20:00</td>\n",
       "      <td>0.85</td>\n",
       "      <td>NaN</td>\n",
       "      <td>United Kingdom</td>\n",
       "    </tr>\n",
       "    <tr>\n",
       "      <th>269963</th>\n",
       "      <td>515504</td>\n",
       "      <td>20738</td>\n",
       "      <td>GREEN MINI TAPE MEASURE</td>\n",
       "      <td>100</td>\n",
       "      <td>2010-07-13 10:51:00</td>\n",
       "      <td>0.72</td>\n",
       "      <td>16013.0</td>\n",
       "      <td>United Kingdom</td>\n",
       "    </tr>\n",
       "    <tr>\n",
       "      <th>376268</th>\n",
       "      <td>525752</td>\n",
       "      <td>21430</td>\n",
       "      <td>SET/3 RED GINGHAM ROSE STORAGE BOX</td>\n",
       "      <td>1</td>\n",
       "      <td>2010-10-07 10:07:00</td>\n",
       "      <td>3.75</td>\n",
       "      <td>NaN</td>\n",
       "      <td>United Kingdom</td>\n",
       "    </tr>\n",
       "    <tr>\n",
       "      <th>155805</th>\n",
       "      <td>504160</td>\n",
       "      <td>82486</td>\n",
       "      <td>WOOD S/3 CABINET ANT WHITE FINISH</td>\n",
       "      <td>2</td>\n",
       "      <td>2010-04-11 15:54:00</td>\n",
       "      <td>7.95</td>\n",
       "      <td>15555.0</td>\n",
       "      <td>United Kingdom</td>\n",
       "    </tr>\n",
       "    <tr>\n",
       "      <th>41265</th>\n",
       "      <td>492784</td>\n",
       "      <td>85097B</td>\n",
       "      <td>BLUE ROCKING SINGING CANARY</td>\n",
       "      <td>1</td>\n",
       "      <td>2009-12-18 17:24:00</td>\n",
       "      <td>3.75</td>\n",
       "      <td>17841.0</td>\n",
       "      <td>United Kingdom</td>\n",
       "    </tr>\n",
       "    <tr>\n",
       "      <th>152238</th>\n",
       "      <td>503867</td>\n",
       "      <td>22526</td>\n",
       "      <td>WHEELBARROW FOR CHILDREN</td>\n",
       "      <td>1</td>\n",
       "      <td>2010-04-08 11:16:00</td>\n",
       "      <td>12.75</td>\n",
       "      <td>13712.0</td>\n",
       "      <td>United Kingdom</td>\n",
       "    </tr>\n",
       "    <tr>\n",
       "      <th>177729</th>\n",
       "      <td>506250</td>\n",
       "      <td>84761</td>\n",
       "      <td>IVORY HANGING BIRD PLANTER</td>\n",
       "      <td>2</td>\n",
       "      <td>2010-04-28 13:34:00</td>\n",
       "      <td>2.55</td>\n",
       "      <td>16327.0</td>\n",
       "      <td>United Kingdom</td>\n",
       "    </tr>\n",
       "  </tbody>\n",
       "</table>\n",
       "</div>"
      ],
      "text/plain": [
       "       Invoice StockCode                         Description  Quantity  \\\n",
       "277520  516343     22617          BAKING SET SPACEBOY DESIGN         3   \n",
       "245969  513199     21527   RED RETROSPOT TRADITIONAL TEAPOT          1   \n",
       "88876   497795     22271                FELTCRAFT DOLL ROSIE         6   \n",
       "330484  521646     21703             BAG 125g SWIRLY MARBLES        10   \n",
       "269963  515504     20738            GREEN MINI TAPE MEASURE        100   \n",
       "376268  525752     21430  SET/3 RED GINGHAM ROSE STORAGE BOX         1   \n",
       "155805  504160     82486   WOOD S/3 CABINET ANT WHITE FINISH         2   \n",
       "41265   492784    85097B         BLUE ROCKING SINGING CANARY         1   \n",
       "152238  503867     22526           WHEELBARROW FOR CHILDREN          1   \n",
       "177729  506250     84761         IVORY HANGING BIRD PLANTER          2   \n",
       "\n",
       "                InvoiceDate  Price  Customer ID         Country  \n",
       "277520  2010-07-20 09:45:00   4.95      14922.0  United Kingdom  \n",
       "245969  2010-06-22 16:21:00  16.98          NaN  United Kingdom  \n",
       "88876   2010-02-12 12:51:00   2.95      16954.0  United Kingdom  \n",
       "330484  2010-09-07 13:20:00   0.85          NaN  United Kingdom  \n",
       "269963  2010-07-13 10:51:00   0.72      16013.0  United Kingdom  \n",
       "376268  2010-10-07 10:07:00   3.75          NaN  United Kingdom  \n",
       "155805  2010-04-11 15:54:00   7.95      15555.0  United Kingdom  \n",
       "41265   2009-12-18 17:24:00   3.75      17841.0  United Kingdom  \n",
       "152238  2010-04-08 11:16:00  12.75      13712.0  United Kingdom  \n",
       "177729  2010-04-28 13:34:00   2.55      16327.0  United Kingdom  "
      ]
     },
     "execution_count": 64,
     "metadata": {},
     "output_type": "execute_result"
    }
   ],
   "source": [
    "df.sample(10)"
   ]
  },
  {
   "cell_type": "code",
   "execution_count": 70,
   "id": "d65f7c14",
   "metadata": {},
   "outputs": [
    {
     "data": {
      "text/plain": [
       "(525461, 8)"
      ]
     },
     "execution_count": 70,
     "metadata": {},
     "output_type": "execute_result"
    }
   ],
   "source": [
    "df.shape"
   ]
  },
  {
   "cell_type": "code",
   "execution_count": 71,
   "id": "df0627cf",
   "metadata": {},
   "outputs": [
    {
     "name": "stdout",
     "output_type": "stream",
     "text": [
      "<class 'pandas.core.frame.DataFrame'>\n",
      "RangeIndex: 525461 entries, 0 to 525460\n",
      "Data columns (total 8 columns):\n",
      " #   Column       Non-Null Count   Dtype  \n",
      "---  ------       --------------   -----  \n",
      " 0   Invoice      525461 non-null  object \n",
      " 1   StockCode    525461 non-null  object \n",
      " 2   Description  522533 non-null  object \n",
      " 3   Quantity     525461 non-null  int64  \n",
      " 4   InvoiceDate  525461 non-null  object \n",
      " 5   Price        525461 non-null  float64\n",
      " 6   Customer ID  417534 non-null  float64\n",
      " 7   Country      525461 non-null  object \n",
      "dtypes: float64(2), int64(1), object(5)\n",
      "memory usage: 32.1+ MB\n"
     ]
    }
   ],
   "source": [
    "df.info()"
   ]
  },
  {
   "cell_type": "code",
   "execution_count": 43,
   "id": "e7e1a008",
   "metadata": {},
   "outputs": [
    {
     "data": {
      "text/plain": [
       "Invoice             0\n",
       "StockCode           0\n",
       "Description      2928\n",
       "Quantity            0\n",
       "InvoiceDate         0\n",
       "Price               0\n",
       "Customer ID    107927\n",
       "Country             0\n",
       "dtype: int64"
      ]
     },
     "execution_count": 43,
     "metadata": {},
     "output_type": "execute_result"
    }
   ],
   "source": [
    "df.isnull().sum()"
   ]
  },
  {
   "cell_type": "markdown",
   "id": "42b7be22",
   "metadata": {},
   "source": [
    "<h3> Converting the data type from object to date time </h3>"
   ]
  },
  {
   "cell_type": "code",
   "execution_count": 44,
   "id": "8a6a1087",
   "metadata": {},
   "outputs": [],
   "source": [
    "df['InvoiceDate'] = pd.to_datetime(df['InvoiceDate'])"
   ]
  },
  {
   "cell_type": "markdown",
   "id": "ad4ab9b7",
   "metadata": {},
   "source": [
    "<h3> Removing transactions with null customer ID </h3>"
   ]
  },
  {
   "cell_type": "code",
   "execution_count": 45,
   "id": "558e5d84",
   "metadata": {},
   "outputs": [],
   "source": [
    "df = df.dropna(subset=['Customer ID'])"
   ]
  },
  {
   "cell_type": "markdown",
   "id": "7250240e",
   "metadata": {},
   "source": [
    "<h3>Removing transactions with negative count</h3>"
   ]
  },
  {
   "cell_type": "code",
   "execution_count": 46,
   "id": "58d7cfde",
   "metadata": {},
   "outputs": [],
   "source": [
    "df = df[(df['Quantity']>0) & (df['Price']>0)]"
   ]
  },
  {
   "cell_type": "code",
   "execution_count": 47,
   "id": "726041a3",
   "metadata": {},
   "outputs": [
    {
     "data": {
      "text/plain": [
       "Invoice        0\n",
       "StockCode      0\n",
       "Description    0\n",
       "Quantity       0\n",
       "InvoiceDate    0\n",
       "Price          0\n",
       "Customer ID    0\n",
       "Country        0\n",
       "dtype: int64"
      ]
     },
     "execution_count": 47,
     "metadata": {},
     "output_type": "execute_result"
    }
   ],
   "source": [
    "df.isnull().sum()"
   ]
  },
  {
   "cell_type": "code",
   "execution_count": 48,
   "id": "8c7732c5",
   "metadata": {},
   "outputs": [
    {
     "data": {
      "text/plain": [
       "(407664, 8)"
      ]
     },
     "execution_count": 48,
     "metadata": {},
     "output_type": "execute_result"
    }
   ],
   "source": [
    "df.shape"
   ]
  },
  {
   "cell_type": "markdown",
   "id": "368ffd35",
   "metadata": {},
   "source": [
    "<h3> Calculate Recency</h3>"
   ]
  },
  {
   "cell_type": "code",
   "execution_count": 49,
   "id": "3b6f60f7",
   "metadata": {},
   "outputs": [
    {
     "name": "stdout",
     "output_type": "stream",
     "text": [
      "<class 'pandas.core.series.Series'>\n",
      "(4312,)\n"
     ]
    }
   ],
   "source": [
    "# Recency: Calculate days since last purchase\n",
    "reference_date = df['InvoiceDate'].max()\n",
    "Recency = df.groupby(\"Customer ID\")[\"InvoiceDate\"].apply(lambda x: (reference_date - x.max()).days).rename(\"Recency\")\n",
    "print(type(Recency))\n",
    "Recency.head(5)\n",
    "print(Recency.shape)"
   ]
  },
  {
   "cell_type": "markdown",
   "id": "170c481a",
   "metadata": {},
   "source": [
    "<h3> Calculate Frequency</h3>"
   ]
  },
  {
   "cell_type": "code",
   "execution_count": 50,
   "id": "8413f57f",
   "metadata": {},
   "outputs": [
    {
     "name": "stdout",
     "output_type": "stream",
     "text": [
      "(4312,)\n"
     ]
    }
   ],
   "source": [
    "# Frequency :  Count number of purchases per customer\n",
    "Frequency = df.groupby('Customer ID')['InvoiceDate'].nunique().rename('Frequency')\n",
    "Frequency.head(5)\n",
    "print(Frequency.shape)"
   ]
  },
  {
   "cell_type": "markdown",
   "id": "01ac8152",
   "metadata": {},
   "source": [
    "<h3>Calculate Monetary value </h3>"
   ]
  },
  {
   "cell_type": "code",
   "execution_count": 51,
   "id": "e91ea41a",
   "metadata": {
    "scrolled": true
   },
   "outputs": [
    {
     "name": "stdout",
     "output_type": "stream",
     "text": [
      "(4312,)\n"
     ]
    }
   ],
   "source": [
    "#monetary\n",
    "df['Monetary'] = abs(df[\"Quantity\"])*df[\"Price\"]\n",
    "Monetary_Value = df.groupby('Customer ID')['Monetary'].sum().rename('Monetary_Value')\n",
    "Monetary_Value.head(5)\n",
    "print(Monetary_Value.shape)"
   ]
  },
  {
   "cell_type": "markdown",
   "id": "9e554388",
   "metadata": {},
   "source": [
    "<h3> Merging all the metrics into one dataframe </h3>"
   ]
  },
  {
   "cell_type": "code",
   "execution_count": 55,
   "id": "efc18ae1",
   "metadata": {},
   "outputs": [
    {
     "name": "stdout",
     "output_type": "stream",
     "text": [
      "(4312, 3)\n"
     ]
    },
    {
     "data": {
      "text/plain": [
       "Index(['Recency', 'Frequency', 'Monetary'], dtype='object')"
      ]
     },
     "execution_count": 55,
     "metadata": {},
     "output_type": "execute_result"
    }
   ],
   "source": [
    "rfm = pd.concat([Recency, Frequency, Monetary_Value], axis=1)\n",
    "\n",
    "# Renaming the columns\n",
    "rfm.columns = ['Recency', 'Frequency', 'Monetary']\n",
    "\n",
    "# Display the merged DataFrame\n",
    "print(rfm.shape)\n",
    "rfm.head()\n",
    "rfm.columns"
   ]
  },
  {
   "cell_type": "code",
   "execution_count": 56,
   "id": "468ed549",
   "metadata": {},
   "outputs": [
    {
     "name": "stdout",
     "output_type": "stream",
     "text": [
      "Recency      164.00\n",
      "Frequency     11.00\n",
      "Monetary     372.86\n",
      "Name: 12346.0, dtype: float64\n"
     ]
    }
   ],
   "source": [
    "print(rfm.loc[12346.0])"
   ]
  },
  {
   "cell_type": "markdown",
   "id": "6831da7c",
   "metadata": {},
   "source": [
    "<h3> Standarize data </h3>"
   ]
  },
  {
   "cell_type": "code",
   "execution_count": 27,
   "id": "ac1457b8",
   "metadata": {},
   "outputs": [
    {
     "name": "stdout",
     "output_type": "stream",
     "text": [
      "              Recency  Frequency  Monetary\n",
      "Customer ID                               \n",
      "12346.0      0.439678   0.049261  0.001059\n",
      "12347.0      0.005362   0.004926  0.003782\n",
      "12348.0      0.195710   0.000000  0.000628\n",
      "12349.0      0.112601   0.009852  0.007642\n",
      "12351.0      0.026810   0.000000  0.000853\n"
     ]
    }
   ],
   "source": [
    "# Normalize the RFM metrics\n",
    "from sklearn.preprocessing import MinMaxScaler\n",
    "scaler = MinMaxScaler()\n",
    "rfm_normalized = rfm.copy()\n",
    "rfm_normalized[['Recency', 'Frequency', 'Monetary']] = scaler.fit_transform(rfm[['Recency', 'Frequency', 'Monetary']])\n",
    "print(rfm_normalized.head())"
   ]
  },
  {
   "cell_type": "code",
   "execution_count": 28,
   "id": "eb540d0a",
   "metadata": {},
   "outputs": [
    {
     "name": "stdout",
     "output_type": "stream",
     "text": [
      "Recency      1.0\n",
      "Frequency    1.0\n",
      "Monetary     1.0\n",
      "dtype: float64 Recency      0.0\n",
      "Frequency    0.0\n",
      "Monetary     0.0\n",
      "dtype: float64\n"
     ]
    }
   ],
   "source": [
    "# Finding the maximum values of each metric\n",
    "max_values = rfm_normalized[['Recency', 'Frequency', 'Monetary']].max()\n",
    "\n",
    "# Finding the minimum values of each metric\n",
    "min_values = rfm_normalized[['Recency', 'Frequency', 'Monetary']].min()\n",
    "print(max_values, min_values)"
   ]
  },
  {
   "cell_type": "markdown",
   "id": "bb4e9339",
   "metadata": {},
   "source": [
    "<h3>Elbow Method</h3>"
   ]
  },
  {
   "cell_type": "code",
   "execution_count": 29,
   "id": "fd159e4e",
   "metadata": {},
   "outputs": [
    {
     "data": {
      "image/png": "[encoded data removed]",
      "text/plain": [
       "<Figure size 1000x600 with 1 Axes>"
      ]
     },
     "metadata": {},
     "output_type": "display_data"
    }
   ],
   "source": [
    "wcss = []\n",
    "for i in range(1, 11):\n",
    "    kmeans = KMeans(n_clusters=i, random_state=42)\n",
    "    kmeans.fit(rfm_normalized[['Recency', 'Frequency', 'Monetary']])\n",
    "    wcss.append(kmeans.inertia_)\n",
    "\n",
    "# Plot the elbow curve\n",
    "plt.figure(figsize=(10, 6))\n",
    "plt.plot(range(1, 11), wcss, marker='o', linestyle='--')\n",
    "plt.xlabel('Number of Clusters')\n",
    "plt.ylabel('WCSS')\n",
    "plt.title('Elbow Method for Optimal Number of Clusters')\n",
    "plt.show()\n"
   ]
  },
  {
   "cell_type": "markdown",
   "id": "8015ad0d",
   "metadata": {},
   "source": [
    "<h3>Silhouette Score</h3>"
   ]
  },
  {
   "cell_type": "code",
   "execution_count": 322,
   "id": "bc8f355d",
   "metadata": {},
   "outputs": [
    {
     "data": {
      "image/png": "[encoded data removed]",
      "text/plain": [
       "<Figure size 1000x600 with 1 Axes>"
      ]
     },
     "metadata": {},
     "output_type": "display_data"
    }
   ],
   "source": [
    "silhouette_scores = []\n",
    "for n_clusters in range(2, 11):\n",
    "    kmeans = KMeans(n_clusters=n_clusters, random_state=42)\n",
    "    cluster_labels = kmeans.fit_predict(rfm_normalized[['Recency', 'Frequency', 'Monetary']])\n",
    "    silhouette_avg = silhouette_score(rfm_normalized[['Recency', 'Frequency', 'Monetary']], cluster_labels)\n",
    "    silhouette_scores.append(silhouette_avg)\n",
    "\n",
    "# Plot Silhouette Scores\n",
    "plt.figure(figsize=(10, 6))\n",
    "plt.plot(range(2, 11), silhouette_scores, marker='o', linestyle='--')\n",
    "plt.xlabel('Number of Clusters')\n",
    "plt.ylabel('Silhouette Score')\n",
    "plt.title('Silhouette Score for Optimal Number of Clusters')\n",
    "plt.show()\n"
   ]
  },
  {
   "cell_type": "markdown",
   "id": "5868dcda",
   "metadata": {},
   "source": [
    "<h3>Based on the elbow method and silhouette score, i choosed 4 as the optimal number of clusters</h3>"
   ]
  },
  {
   "cell_type": "code",
   "execution_count": 323,
   "id": "43ccbbc3",
   "metadata": {},
   "outputs": [
    {
     "name": "stdout",
     "output_type": "stream",
     "text": [
      "<class 'pandas.core.frame.DataFrame'>\n",
      "Index: 4312 entries, 12346.0 to 18287.0\n",
      "Data columns (total 4 columns):\n",
      " #   Column     Non-Null Count  Dtype  \n",
      "---  ------     --------------  -----  \n",
      " 0   Recency    4312 non-null   float64\n",
      " 1   Frequency  4312 non-null   float64\n",
      " 2   Monetary   4312 non-null   float64\n",
      " 3   Cluster    4312 non-null   int32  \n",
      "dtypes: float64(3), int32(1)\n",
      "memory usage: 151.6 KB\n",
      "None\n"
     ]
    },
    {
     "data": {
      "text/html": [
       "<div>\n",
       "<style scoped>\n",
       "    .dataframe tbody tr th:only-of-type {\n",
       "        vertical-align: middle;\n",
       "    }\n",
       "\n",
       "    .dataframe tbody tr th {\n",
       "        vertical-align: top;\n",
       "    }\n",
       "\n",
       "    .dataframe thead th {\n",
       "        text-align: right;\n",
       "    }\n",
       "</style>\n",
       "<table border=\"1\" class=\"dataframe\">\n",
       "  <thead>\n",
       "    <tr style=\"text-align: right;\">\n",
       "      <th></th>\n",
       "      <th>Recency</th>\n",
       "      <th>Frequency</th>\n",
       "      <th>Monetary</th>\n",
       "      <th>Cluster</th>\n",
       "    </tr>\n",
       "    <tr>\n",
       "      <th>Customer ID</th>\n",
       "      <th></th>\n",
       "      <th></th>\n",
       "      <th></th>\n",
       "      <th></th>\n",
       "    </tr>\n",
       "  </thead>\n",
       "  <tbody>\n",
       "    <tr>\n",
       "      <th>12346.0</th>\n",
       "      <td>0.439678</td>\n",
       "      <td>0.049261</td>\n",
       "      <td>0.001059</td>\n",
       "      <td>1</td>\n",
       "    </tr>\n",
       "    <tr>\n",
       "      <th>12347.0</th>\n",
       "      <td>0.005362</td>\n",
       "      <td>0.004926</td>\n",
       "      <td>0.003782</td>\n",
       "      <td>0</td>\n",
       "    </tr>\n",
       "    <tr>\n",
       "      <th>12348.0</th>\n",
       "      <td>0.195710</td>\n",
       "      <td>0.000000</td>\n",
       "      <td>0.000628</td>\n",
       "      <td>2</td>\n",
       "    </tr>\n",
       "    <tr>\n",
       "      <th>12349.0</th>\n",
       "      <td>0.112601</td>\n",
       "      <td>0.009852</td>\n",
       "      <td>0.007642</td>\n",
       "      <td>0</td>\n",
       "    </tr>\n",
       "    <tr>\n",
       "      <th>12351.0</th>\n",
       "      <td>0.026810</td>\n",
       "      <td>0.000000</td>\n",
       "      <td>0.000853</td>\n",
       "      <td>0</td>\n",
       "    </tr>\n",
       "  </tbody>\n",
       "</table>\n",
       "</div>"
      ],
      "text/plain": [
       "              Recency  Frequency  Monetary  Cluster\n",
       "Customer ID                                        \n",
       "12346.0      0.439678   0.049261  0.001059        1\n",
       "12347.0      0.005362   0.004926  0.003782        0\n",
       "12348.0      0.195710   0.000000  0.000628        2\n",
       "12349.0      0.112601   0.009852  0.007642        0\n",
       "12351.0      0.026810   0.000000  0.000853        0"
      ]
     },
     "execution_count": 323,
     "metadata": {},
     "output_type": "execute_result"
    }
   ],
   "source": [
    "optimal_clusters = 4 \n",
    "kmeans = KMeans(n_clusters=optimal_clusters, random_state=42)\n",
    "rfm_normalized['Cluster'] = kmeans.fit_predict(rfm_normalized[['Recency', 'Frequency', 'Monetary']])\n",
    "print(rfm_normalized.info()) \n",
    "rfm_normalized.head(5)"
   ]
  },
  {
   "cell_type": "markdown",
   "id": "200a4ec3",
   "metadata": {},
   "source": [
    "<h3>Calculate mean values for each cluster</h3>"
   ]
  },
  {
   "cell_type": "code",
   "execution_count": 324,
   "id": "c7062834",
   "metadata": {},
   "outputs": [
    {
     "name": "stdout",
     "output_type": "stream",
     "text": [
      "          Recency  Frequency  Monetary\n",
      "Cluster                               \n",
      "0        0.050298   0.027776  0.009322\n",
      "1        0.502982   0.005232  0.002076\n",
      "2        0.207288   0.010387  0.003526\n",
      "3        0.818699   0.001696  0.001506\n"
     ]
    }
   ],
   "source": [
    "cluster_analysis = rfm_normalized.groupby('Cluster').mean()\n",
    "print(cluster_analysis)"
   ]
  },
  {
   "cell_type": "markdown",
   "id": "8b5558e8",
   "metadata": {},
   "source": [
    "<h3> Centroids </h3>"
   ]
  },
  {
   "cell_type": "code",
   "execution_count": 325,
   "id": "12dd26d2",
   "metadata": {},
   "outputs": [
    {
     "data": {
      "text/plain": [
       "array([[0.05018093, 0.02776425, 0.00931288],\n",
       "       [0.50298231, 0.0052316 , 0.002076  ],\n",
       "       [0.20708889, 0.01045359, 0.00355747],\n",
       "       [0.818699  , 0.0016957 , 0.00150596]])"
      ]
     },
     "execution_count": 325,
     "metadata": {},
     "output_type": "execute_result"
    }
   ],
   "source": [
    "kmeans.cluster_centers_"
   ]
  },
  {
   "cell_type": "markdown",
   "id": "87b243f8",
   "metadata": {},
   "source": [
    "<h3>Visualize the clusters with bar graphs</h3>"
   ]
  },
  {
   "cell_type": "code",
   "execution_count": 326,
   "id": "f847dfbb",
   "metadata": {},
   "outputs": [
    {
     "data": {
      "text/plain": [
       "<Figure size 1200x800 with 0 Axes>"
      ]
     },
     "metadata": {},
     "output_type": "display_data"
    },
    {
     "data": {
      "image/png": "[encoded data removed]",
      "text/plain": [
       "<Figure size 1500x500 with 3 Axes>"
      ]
     },
     "metadata": {},
     "output_type": "display_data"
    }
   ],
   "source": [
    "plt.figure(figsize=(12, 8))\n",
    "cluster_analysis[['Recency', 'Frequency', 'Monetary']].plot(kind='bar', subplots=True, layout=(1, 3), figsize=(15, 5), color=['skyblue', 'lightgreen', 'salmon'])\n",
    "plt.suptitle('Average RFM Values by Cluster')\n",
    "plt.show()"
   ]
  },
  {
   "cell_type": "markdown",
   "id": "e41041a8",
   "metadata": {},
   "source": [
    "<h3>Segment mapping based on analysis</h3>"
   ]
  },
  {
   "cell_type": "code",
   "execution_count": 257,
   "id": "9262bc30",
   "metadata": {},
   "outputs": [],
   "source": [
    "segment_map = {\n",
    "    0: 'Best Customers',\n",
    "    1: 'Big Spenders',\n",
    "    2: 'Loyal Customers',\n",
    "    3: 'Lost Cheap Customers'\n",
    "}"
   ]
  },
  {
   "cell_type": "code",
   "execution_count": 272,
   "id": "c9cce7bb",
   "metadata": {},
   "outputs": [
    {
     "name": "stdout",
     "output_type": "stream",
     "text": [
      "              Recency  Frequency  Monetary  Cluster          Segment\n",
      "Customer ID                                                         \n",
      "12346.0      0.439678   0.049261  0.001059        1     Big Spenders\n",
      "12347.0      0.005362   0.004926  0.003782        0   Best Customers\n",
      "12348.0      0.195710   0.000000  0.000628        2  Loyal Customers\n",
      "12349.0      0.112601   0.009852  0.007642        0   Best Customers\n",
      "12351.0      0.026810   0.000000  0.000853        0   Best Customers\n"
     ]
    }
   ],
   "source": [
    "rfm_normalized['Segment'] = rfm_normalized['Cluster'].map(segment_map)\n",
    "print(rfm_normalized.head())"
   ]
  },
  {
   "cell_type": "markdown",
   "id": "30ee14d4",
   "metadata": {},
   "source": [
    "<h3> Analyze the final segments </h3>"
   ]
  },
  {
   "cell_type": "code",
   "execution_count": 282,
   "id": "da2728ee",
   "metadata": {},
   "outputs": [
    {
     "name": "stdout",
     "output_type": "stream",
     "text": [
      "                       Recency  Frequency  Monetary  Cluster\n",
      "Segment                                                     \n",
      "Best Customers        0.050298   0.027776  0.009322      0.0\n",
      "Big Spenders          0.502982   0.005232  0.002076      1.0\n",
      "Lost Cheap Customers  0.818699   0.001696  0.001506      3.0\n",
      "Loyal Customers       0.207288   0.010387  0.003526      2.0\n"
     ]
    }
   ],
   "source": [
    "segment_analysis = rfm_normalized.groupby('Segment').mean()\n",
    "print(segment_analysis)"
   ]
  },
  {
   "cell_type": "markdown",
   "id": "1fc933ca",
   "metadata": {},
   "source": [
    "<h3>Visualize segments with bar graphs</h3>"
   ]
  },
  {
   "cell_type": "code",
   "execution_count": 285,
   "id": "f0957989",
   "metadata": {},
   "outputs": [
    {
     "data": {
      "text/plain": [
       "<Figure size 1200x800 with 0 Axes>"
      ]
     },
     "metadata": {},
     "output_type": "display_data"
    },
    {
     "data": {
      "image/png": "[encoded data removed]",
      "text/plain": [
       "<Figure size 1500x500 with 3 Axes>"
      ]
     },
     "metadata": {},
     "output_type": "display_data"
    }
   ],
   "source": [
    "plt.figure(figsize=(12, 8))\n",
    "segment_analysis[['Recency', 'Frequency', 'Monetary']].plot(kind='bar', subplots=True, layout=(1, 3), figsize=(15, 5), color=['skyblue', 'lightgreen', 'salmon'])\n",
    "plt.suptitle('Average RFM Values by Segment')\n",
    "plt.show()"
   ]
  },
  {
   "cell_type": "markdown",
   "id": "d1990c90",
   "metadata": {},
   "source": [
    "<p></p>\n",
    "<p>\n",
    "<b>Cluster 0: Best Customers - Recent, frequent, and high-spending customers.</b><br>\n",
    "<b>Cluster 1: Big Spenders - Moderately recent, substantial spenders, but less frequent buyers.</b><br>  \n",
    "<b>Cluster 2: Loyal Customers - Moderately recent, regular buyers with moderate spending.</b><br>\n",
    "<b>Cluster 3: Lost Cheap Customers - Least recent and infrequent buyers with low spending.</b><br>\n",
    "</p>"
   ]
  }
 ],
 "metadata": {
  "kernelspec": {
   "display_name": "Python 3 (ipykernel)",
   "language": "python",
   "name": "python3"
  },
  "language_info": {
   "codemirror_mode": {
    "name": "ipython",
    "version": 3
   },
   "file_extension": ".py",
   "mimetype": "text/x-python",
   "name": "python",
   "nbconvert_exporter": "python",
   "pygments_lexer": "ipython3",
   "version": "3.11.5"
  }
 },
 "nbformat": 4,
 "nbformat_minor": 5
}
